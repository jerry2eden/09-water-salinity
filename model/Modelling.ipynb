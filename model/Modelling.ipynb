{
  "nbformat": 4,
  "nbformat_minor": 0,
  "metadata": {
    "kernelspec": {
      "name": "python3",
      "display_name": "Python 3",
      "language": "python"
    },
    "language_info": {
      "name": "python",
      "version": "3.7.6",
      "mimetype": "text/x-python",
      "codemirror_mode": {
        "name": "ipython",
        "version": 3
      },
      "pygments_lexer": "ipython3",
      "nbconvert_exporter": "python",
      "file_extension": ".py"
    },
    "colab": {
      "name": "notebook8eb0d21a4f (1).ipynb",
      "provenance": []
    }
  },
  "cells": [
    {
      "cell_type": "code",
      "metadata": {
        "_uuid": "8f2839f25d086af736a60e9eeb907d3b93b6e0e5",
        "_cell_guid": "b1076dfc-b9ad-4769-8c92-a6c4dae69d19",
        "trusted": true,
        "id": "KJf3YbHp40-C"
      },
      "source": [
        "# This Python 3 environment comes with many helpful analytics libraries installed\n",
        "# It is defined by the kaggle/python Docker image: https://github.com/kaggle/docker-python\n",
        "# For example, here's several helpful packages to load\n",
        "\n",
        "import numpy as np # linear algebra\n",
        "import pandas as pd # data processing, CSV file I/O (e.g. pd.read_csv)\n",
        "\n",
        "# Input data files are available in the read-only \"../input/\" directory\n",
        "# For example, running this (by clicking run or pressing Shift+Enter) will list all files under the input directory\n",
        "\n",
        "#import os\n",
        "#for dirname, _, filenames in os.walk('/kaggle/input'):\n",
        "    #for filename in filenames:\n",
        "      #  print(os.path.join(dirname, filename))\n",
        "\n",
        "# You can write up to 5GB to the current directory (/kaggle/working/) that gets preserved as output when you create a version using \"Save & Run All\" \n",
        "# You can also write temporary files to /kaggle/temp/, but they won't be saved outside of the current session"
      ],
      "execution_count": null,
      "outputs": []
    },
    {
      "cell_type": "code",
      "metadata": {
        "trusted": true,
        "id": "7xFXJQrs40-R"
      },
      "source": [
        "import matplotlib.pyplot as plt\n",
        "import seaborn as sns"
      ],
      "execution_count": null,
      "outputs": []
    },
    {
      "cell_type": "code",
      "metadata": {
        "trusted": true,
        "id": "xZQJy5G740-c"
      },
      "source": [
        "from sklearn.model_selection import train_test_split\n",
        "from sklearn.linear_model import LinearRegression\n",
        "from sklearn.metrics import r2_score\n",
        "from sklearn.metrics import mean_absolute_error\n",
        "from sklearn.tree import DecisionTreeRegressor\n",
        "from sklearn.model_selection import cross_val_score\n",
        "from sklearn.ensemble import RandomForestRegressor, GradientBoostingRegressor, BaggingRegressor, AdaBoostRegressor\n",
        "from xgboost import XGBRegressor, XGBRFRegressor\n",
        "from lightgbm import LGBMRegressor\n",
        "from catboost import CatBoostRegressor\n",
        "from sklearn.metrics import mean_squared_error"
      ],
      "execution_count": null,
      "outputs": []
    },
    {
      "cell_type": "code",
      "metadata": {
        "_uuid": "d629ff2d2480ee46fbb7e2d37f6b5fab8052498a",
        "_cell_guid": "79c7e3d0-c299-4dcb-8224-4455121ee9b0",
        "trusted": true,
        "id": "vjFcJpRh40-m"
      },
      "source": [
        "df = pd.read_csv('../input/eda-data-visualization/preprocessed_data.csv')"
      ],
      "execution_count": null,
      "outputs": []
    },
    {
      "cell_type": "code",
      "metadata": {
        "trusted": true,
        "id": "gGK4sDcR40-w",
        "outputId": "fe08da40-d3bb-4489-c177-9f46f0b0154f"
      },
      "source": [
        "df.info()"
      ],
      "execution_count": null,
      "outputs": [
        {
          "output_type": "stream",
          "text": [
            "<class 'pandas.core.frame.DataFrame'>\n",
            "RangeIndex: 817509 entries, 0 to 817508\n",
            "Data columns (total 13 columns):\n",
            " #   Column                            Non-Null Count   Dtype  \n",
            "---  ------                            --------------   -----  \n",
            " 0   Depth                             817509 non-null  int64  \n",
            " 1   Temperature                       814247 non-null  float64\n",
            " 2   Salinity                          817509 non-null  float64\n",
            " 3   O2 Sat                            661274 non-null  float64\n",
            " 4   Phosphate Concentration           393930 non-null  float64\n",
            " 5   Silicate Concentration            348693 non-null  float64\n",
            " 6   Nitrate Concentration             332233 non-null  float64\n",
            " 7   Reported Specific Volume Anomaly  812092 non-null  float64\n",
            " 8   Reported Dynamic Height           811598 non-null  float64\n",
            " 9   Pressure (decibars)               817509 non-null  int64  \n",
            " 10  Record Indicator                  817509 non-null  object \n",
            " 11  Temperature Precision             814247 non-null  float64\n",
            " 12  Salinity Precision                817509 non-null  float64\n",
            "dtypes: float64(10), int64(2), object(1)\n",
            "memory usage: 81.1+ MB\n"
          ],
          "name": "stdout"
        }
      ]
    },
    {
      "cell_type": "code",
      "metadata": {
        "trusted": true,
        "id": "izeyhR9L40-8",
        "outputId": "cdc9a4d1-e2d2-44fb-be4a-db6ab3d867f5"
      },
      "source": [
        "df.isnull().sum()"
      ],
      "execution_count": null,
      "outputs": [
        {
          "output_type": "execute_result",
          "data": {
            "text/plain": [
              "Depth                                    0\n",
              "Temperature                           3262\n",
              "Salinity                                 0\n",
              "O2 Sat                              156235\n",
              "Phosphate Concentration             423579\n",
              "Silicate Concentration              468816\n",
              "Nitrate Concentration               485276\n",
              "Reported Specific Volume Anomaly      5417\n",
              "Reported Dynamic Height               5911\n",
              "Pressure (decibars)                      0\n",
              "Record Indicator                         0\n",
              "Temperature Precision                 3262\n",
              "Salinity Precision                       0\n",
              "dtype: int64"
            ]
          },
          "metadata": {
            "tags": []
          },
          "execution_count": 4
        }
      ]
    },
    {
      "cell_type": "code",
      "metadata": {
        "trusted": true,
        "id": "vO9A3yzI40_H"
      },
      "source": [
        "df1 = df.copy()"
      ],
      "execution_count": null,
      "outputs": []
    },
    {
      "cell_type": "code",
      "metadata": {
        "trusted": true,
        "id": "dxLXwjVv40_U"
      },
      "source": [
        "df1.fillna(-999, inplace= True)"
      ],
      "execution_count": null,
      "outputs": []
    },
    {
      "cell_type": "code",
      "metadata": {
        "trusted": true,
        "id": "QnVYnLXb40_d",
        "outputId": "12492f72-56a1-4881-88fb-8d3ff86d7ee6"
      },
      "source": [
        "df1['Record Indicator'].value_counts()"
      ],
      "execution_count": null,
      "outputs": [
        {
          "output_type": "execute_result",
          "data": {
            "text/plain": [
              "Low       431806\n",
              "High      302040\n",
              "Medium     83663\n",
              "Name: Record Indicator, dtype: int64"
            ]
          },
          "metadata": {
            "tags": []
          },
          "execution_count": 16
        }
      ]
    },
    {
      "cell_type": "code",
      "metadata": {
        "trusted": true,
        "id": "j7Re4i7140_n"
      },
      "source": [
        "df2 = df1.replace({'Low':1, 'Medium':2, 'High':3})"
      ],
      "execution_count": null,
      "outputs": []
    },
    {
      "cell_type": "code",
      "metadata": {
        "trusted": true,
        "id": "li3kExJ040_x",
        "outputId": "38e9e22f-90be-4b7c-af97-777bdac3b924"
      },
      "source": [
        "df2.info()"
      ],
      "execution_count": null,
      "outputs": [
        {
          "output_type": "stream",
          "text": [
            "<class 'pandas.core.frame.DataFrame'>\n",
            "RangeIndex: 817509 entries, 0 to 817508\n",
            "Data columns (total 13 columns):\n",
            " #   Column                            Non-Null Count   Dtype  \n",
            "---  ------                            --------------   -----  \n",
            " 0   Depth                             817509 non-null  int64  \n",
            " 1   Temperature                       817509 non-null  float64\n",
            " 2   Salinity                          817509 non-null  float64\n",
            " 3   O2 Sat                            817509 non-null  float64\n",
            " 4   Phosphate Concentration           817509 non-null  float64\n",
            " 5   Silicate Concentration            817509 non-null  float64\n",
            " 6   Nitrate Concentration             817509 non-null  float64\n",
            " 7   Reported Specific Volume Anomaly  817509 non-null  float64\n",
            " 8   Reported Dynamic Height           817509 non-null  float64\n",
            " 9   Pressure (decibars)               817509 non-null  int64  \n",
            " 10  Record Indicator                  817509 non-null  int64  \n",
            " 11  Temperature Precision             817509 non-null  float64\n",
            " 12  Salinity Precision                817509 non-null  float64\n",
            "dtypes: float64(10), int64(3)\n",
            "memory usage: 81.1 MB\n"
          ],
          "name": "stdout"
        }
      ]
    },
    {
      "cell_type": "code",
      "metadata": {
        "trusted": true,
        "id": "9UtuOzPl40_8"
      },
      "source": [
        "X = df2.drop('Salinity', axis=1)\n",
        "y = df2['Salinity']"
      ],
      "execution_count": null,
      "outputs": []
    },
    {
      "cell_type": "code",
      "metadata": {
        "trusted": true,
        "id": "Z2eKsnn-41AE"
      },
      "source": [
        "X_train, X_test, y_train, y_test = train_test_split(X, y, test_size=0.2, random_state = 42)"
      ],
      "execution_count": null,
      "outputs": []
    },
    {
      "cell_type": "code",
      "metadata": {
        "trusted": true,
        "id": "SxqxFMfd41AR"
      },
      "source": [
        "def model(algo):\n",
        "    model = algo.fit(X_train, y_train)\n",
        "    \n",
        "    y_pred = model.predict(X_test)\n",
        "    \n",
        "    accuracy = model.score(X_train, y_train)\n",
        "    \n",
        "    score = r2_score(y_test, y_pred)\n",
        "    \n",
        "    MAE = mean_absolute_error(y_test, y_pred)\n",
        "    \n",
        "    MSE = mean_squared_error(y_test, y_pred)\n",
        "    \n",
        "    RMSE = np.sqrt(mean_squared_error(y_test, y_pred))\n",
        "    \n",
        "    print(f'The accuracy on training set is {accuracy}')\n",
        "    print('')\n",
        "    print(f'The accuracy on test set is {score}')\n",
        "    print('')\n",
        "    print(f'The mean absolute error is {MAE}')\n",
        "    print('')\n",
        "    print(f'The mean squared error is {MSE}')\n",
        "    print('')\n",
        "    print(f'The root mean squared error is {RMSE}')\n",
        "    "
      ],
      "execution_count": null,
      "outputs": []
    },
    {
      "cell_type": "code",
      "metadata": {
        "trusted": true,
        "id": "16OZ4sRk41Ah"
      },
      "source": [
        "lr = LinearRegression()\n",
        "dt = DecisionTreeRegressor()\n",
        "rf = RandomForestRegressor()\n",
        "bg = BaggingRegressor()\n",
        "ada = AdaBoostRegressor()\n",
        "grbt = GradientBoostingRegressor()\n",
        "xgb = XGBRegressor(tree_method ='gpu_hist', gpu_id= 0, verbosity =0,)\n",
        "xgbf = XGBRFRegressor()\n",
        "lgb = LGBMRegressor()\n",
        "cat = CatBoostRegressor(task_type='GPU', verbose=0)"
      ],
      "execution_count": null,
      "outputs": []
    },
    {
      "cell_type": "code",
      "metadata": {
        "trusted": true,
        "id": "79i4k2X341Aw"
      },
      "source": [
        "models = [lr, dt]"
      ],
      "execution_count": null,
      "outputs": []
    },
    {
      "cell_type": "code",
      "metadata": {
        "trusted": true,
        "id": "N7VADNcY41A_",
        "outputId": "256a8c55-9a2e-4971-b449-42a2e58b1911"
      },
      "source": [
        "for mode in models:\n",
        "    model(mode)\n",
        "    "
      ],
      "execution_count": null,
      "outputs": [
        {
          "output_type": "stream",
          "text": [
            "The accuracy on training set is 0.5307229806637037\n",
            "\n",
            "The accuracy on test set is 0.5279358491433381\n",
            "\n",
            "The mean absolute error is 0.21966499913335755\n",
            "\n",
            "The mean squared error is 0.10084019765085239\n",
            "\n",
            "The root mean squared error is 0.31755345636735305\n",
            "The accuracy on training set is 0.9986464402333045\n",
            "\n",
            "The accuracy on test set is 0.9948298076196466\n",
            "\n",
            "The mean absolute error is 0.007934302569340808\n",
            "\n",
            "The mean squared error is 0.0011044329898418255\n",
            "\n",
            "The root mean squared error is 0.03323301054436425\n"
          ],
          "name": "stdout"
        }
      ]
    },
    {
      "cell_type": "code",
      "metadata": {
        "trusted": true,
        "id": "_7t0jtz641BR",
        "outputId": "fcb21ac6-8806-48b6-9970-7122850a0e9e"
      },
      "source": [
        "model(lr)"
      ],
      "execution_count": null,
      "outputs": [
        {
          "output_type": "stream",
          "text": [
            "The accuracy on training set is 0.5307229806637037\n",
            "\n",
            "The accuracy on test set is 0.5279358491433381\n",
            "\n",
            "The mean absolute error is 0.21966499913335755\n",
            "\n",
            "The mean squared error is 0.10084019765085239\n",
            "\n",
            "The root mean squared error is 0.31755345636735305\n"
          ],
          "name": "stdout"
        }
      ]
    },
    {
      "cell_type": "code",
      "metadata": {
        "trusted": true,
        "id": "VHiNDZwQ41Bd",
        "outputId": "5b2a43ab-3b73-4c38-d52e-25b8ee0c2585"
      },
      "source": [
        "model(cat)"
      ],
      "execution_count": null,
      "outputs": [
        {
          "output_type": "stream",
          "text": [
            "The accuracy on training set is 0.981450043882042\n",
            "\n",
            "The accuracy on test set is 0.9820411237187294\n",
            "\n",
            "The mean absolute error is 0.03493564158275544\n",
            "\n",
            "The mean squared error is 0.00383629350058488\n",
            "\n",
            "The root mean squared error is 0.06193781963053656\n"
          ],
          "name": "stdout"
        }
      ]
    },
    {
      "cell_type": "code",
      "metadata": {
        "trusted": true,
        "id": "0Y-cHIgq41Bn",
        "outputId": "5b7c128f-5607-4486-c08c-951a85ec15b6"
      },
      "source": [
        "\n",
        "feature_importance_df = pd.DataFrame(cat.feature_importances_, columns=['importance'])\n",
        "feature_importance_df['feature'] = X.columns\n",
        "\n",
        "plt.figure(figsize=(12, 10));\n",
        "sns.barplot(x=\"importance\", y=\"feature\", data=feature_importance_df.sort_values(by = ['importance'], ascending = False).head(50))\n",
        "plt.title('CatBoostRegressor features importance:');\n"
      ],
      "execution_count": null,
      "outputs": [
        {
          "output_type": "display_data",
          "data": {
            "text/plain": [
              "<Figure size 864x720 with 1 Axes>"
            ],
            "image/png": "[encoded data removed]"
          },
          "metadata": {
            "tags": [],
            "needs_background": "light"
          }
        }
      ]
    },
    {
      "cell_type": "code",
      "metadata": {
        "trusted": true,
        "id": "SVf9wSqQ41B1",
        "outputId": "4b55e0b3-db20-4410-c8ac-c88d44e7a246"
      },
      "source": [
        "model(lgb)"
      ],
      "execution_count": null,
      "outputs": [
        {
          "output_type": "stream",
          "text": [
            "The accuracy on training set is 0.9910730830376231\n",
            "\n",
            "The accuracy on test set is 0.9915948801472977\n",
            "\n",
            "The mean absolute error is 0.02097018351758924\n",
            "\n",
            "The mean squared error is 0.0017954634887811425\n",
            "\n",
            "The root mean squared error is 0.04237290984557401\n"
          ],
          "name": "stdout"
        }
      ]
    },
    {
      "cell_type": "code",
      "metadata": {
        "trusted": true,
        "id": "XIUCRq6n41B9",
        "outputId": "70ff5fee-6f41-4d7f-a9bd-8c5ab2b535c1"
      },
      "source": [
        "feature_importance_df = pd.DataFrame(lgb.feature_importances_, columns=['importance'])\n",
        "feature_importance_df['feature'] = X.columns\n",
        "\n",
        "plt.figure(figsize=(12, 10));\n",
        "sns.barplot(x=\"importance\", y=\"feature\", data=feature_importance_df.sort_values(by = ['importance'], ascending = False).head(50))\n",
        "plt.title('LGBMRegressor features importance:');\n"
      ],
      "execution_count": null,
      "outputs": [
        {
          "output_type": "display_data",
          "data": {
            "text/plain": [
              "<Figure size 864x720 with 1 Axes>"
            ],
            "image/png": "[encoded data removed]"
          },
          "metadata": {
            "tags": [],
            "needs_background": "light"
          }
        }
      ]
    },
    {
      "cell_type": "code",
      "metadata": {
        "trusted": true,
        "id": "RICN6nZ241CE",
        "outputId": "7ff2e80d-6735-4553-8ed5-d924f3ec942f"
      },
      "source": [
        "model(xgb)"
      ],
      "execution_count": null,
      "outputs": [
        {
          "output_type": "stream",
          "text": [
            "The accuracy on training set is 0.9952254573565898\n",
            "\n",
            "The accuracy on test set is 0.9950967329738991\n",
            "\n",
            "The mean absolute error is 0.016593307646471333\n",
            "\n",
            "The mean squared error is 0.001047413609251287\n",
            "\n",
            "The root mean squared error is 0.03236377000986268\n"
          ],
          "name": "stdout"
        }
      ]
    },
    {
      "cell_type": "code",
      "metadata": {
        "trusted": true,
        "id": "PN6fXerf41CM",
        "outputId": "ffa42af1-57f8-46ac-febd-22d8d84ed1cf"
      },
      "source": [
        "\n",
        "feature_importance_df = pd.DataFrame(xgb.feature_importances_, columns=['importance'])\n",
        "feature_importance_df['feature'] = X.columns\n",
        "\n",
        "plt.figure(figsize=(12, 10));\n",
        "sns.barplot(x=\"importance\", y=\"feature\", data=feature_importance_df.sort_values(by = ['importance'], ascending = False).head(50))\n",
        "plt.title('XGBRegressor features importance:');\n"
      ],
      "execution_count": null,
      "outputs": [
        {
          "output_type": "display_data",
          "data": {
            "text/plain": [
              "<Figure size 864x720 with 1 Axes>"
            ],
            "image/png": "[encoded data removed]"
          },
          "metadata": {
            "tags": [],
            "needs_background": "light"
          }
        }
      ]
    },
    {
      "cell_type": "code",
      "metadata": {
        "trusted": true,
        "id": "rh_aXYgx41CT",
        "outputId": "a084548f-9a29-4f65-df08-1acecdef08a6"
      },
      "source": [
        "model(ada)"
      ],
      "execution_count": null,
      "outputs": [
        {
          "output_type": "stream",
          "text": [
            "The accuracy on training set is 0.6941341200187575\n",
            "\n",
            "The accuracy on test set is 0.6947236978320159\n",
            "\n",
            "The mean absolute error is 0.18471995578555064\n",
            "\n",
            "The mean squared error is 0.06521173572040248\n",
            "\n",
            "The root mean squared error is 0.2553658859761861\n"
          ],
          "name": "stdout"
        }
      ]
    },
    {
      "cell_type": "code",
      "metadata": {
        "trusted": true,
        "id": "Oqrw13ch41Ce",
        "outputId": "b0181ff3-f893-48f0-d705-d1e48285cdbd"
      },
      "source": [
        "cross_val_score(CatBoostRegressor(task_type='GPU', verbose=0), X, y, cv=10, scoring='r2').mean()"
      ],
      "execution_count": null,
      "outputs": [
        {
          "output_type": "execute_result",
          "data": {
            "text/plain": [
              "0.9696239040916733"
            ]
          },
          "metadata": {
            "tags": []
          },
          "execution_count": 30
        }
      ]
    },
    {
      "cell_type": "code",
      "metadata": {
        "trusted": true,
        "id": "7EqCUqnT41Cq",
        "outputId": "d0d42a99-9d40-4b4c-f8be-ac6777fe80b8"
      },
      "source": [
        "cross_val_score(dt, X, y, cv=10, scoring='r2').mean()"
      ],
      "execution_count": null,
      "outputs": [
        {
          "output_type": "execute_result",
          "data": {
            "text/plain": [
              "0.9888870549838344"
            ]
          },
          "metadata": {
            "tags": []
          },
          "execution_count": 31
        }
      ]
    },
    {
      "cell_type": "code",
      "metadata": {
        "trusted": true,
        "id": "dhAeuDYe41Cx",
        "outputId": "458aa06a-5b14-468c-c4d5-beb7e4886438"
      },
      "source": [
        "cross_val_score(lgb, X, y, cv=10, scoring='r2').mean()"
      ],
      "execution_count": null,
      "outputs": [
        {
          "output_type": "execute_result",
          "data": {
            "text/plain": [
              "0.9864851019962279"
            ]
          },
          "metadata": {
            "tags": []
          },
          "execution_count": 32
        }
      ]
    },
    {
      "cell_type": "code",
      "metadata": {
        "trusted": true,
        "id": "Zfq4cP6V41C6",
        "outputId": "59f1feb3-8c6c-4cb3-a533-10cb4d9e71b8"
      },
      "source": [
        "cross_val_score(xgb, X, y, cv=10, scoring='r2').mean()"
      ],
      "execution_count": null,
      "outputs": [
        {
          "output_type": "execute_result",
          "data": {
            "text/plain": [
              "0.9917409138574383"
            ]
          },
          "metadata": {
            "tags": []
          },
          "execution_count": 36
        }
      ]
    },
    {
      "cell_type": "markdown",
      "metadata": {
        "id": "Wz69EZGB41DD"
      },
      "source": [
        "XGBooost has the highest performance based on cross validation score"
      ]
    },
    {
      "cell_type": "code",
      "metadata": {
        "trusted": true,
        "id": "hTYHJ4oA41DF"
      },
      "source": [
        ""
      ],
      "execution_count": null,
      "outputs": []
    }
  ]
}